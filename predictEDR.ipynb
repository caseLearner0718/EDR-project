{
 "cells": [
  {
   "cell_type": "code",
   "execution_count": 1,
   "id": "5e108597-6b58-4ed0-b94a-435424d91678",
   "metadata": {},
   "outputs": [],
   "source": [
    "import numpy as np\n",
    "import pandas as pd\n",
    "import matplotlib.pyplot as plt\n",
    "import seaborn as sns\n",
    "from sklearn.model_selection import train_test_split"
   ]
  },
  {
   "cell_type": "code",
   "execution_count": 2,
   "id": "01a40ced-7ad8-4bae-82cb-9944356f8a37",
   "metadata": {},
   "outputs": [],
   "source": [
    "df_dataset = pd.read_csv('/mnt/bigDisk/EDR/unzip_FilelessPcap_label/FilelessPacp_label_dataset/total/total_merged.csv')"
   ]
  },
  {
   "cell_type": "code",
   "execution_count": 3,
   "id": "afc49f7e-010c-4821-a15c-00a91143ac35",
   "metadata": {},
   "outputs": [
    {
     "data": {
      "text/plain": [
       "(866619, 16)"
      ]
     },
     "execution_count": 3,
     "metadata": {},
     "output_type": "execute_result"
    }
   ],
   "source": [
    "df_dataset.shape"
   ]
  },
  {
   "cell_type": "code",
   "execution_count": 4,
   "id": "439e3fde-4140-4ef6-ba41-f1cc79e6c2b5",
   "metadata": {},
   "outputs": [
    {
     "data": {
      "text/html": [
       "<div>\n",
       "<style scoped>\n",
       "    .dataframe tbody tr th:only-of-type {\n",
       "        vertical-align: middle;\n",
       "    }\n",
       "\n",
       "    .dataframe tbody tr th {\n",
       "        vertical-align: top;\n",
       "    }\n",
       "\n",
       "    .dataframe thead th {\n",
       "        text-align: right;\n",
       "    }\n",
       "</style>\n",
       "<table border=\"1\" class=\"dataframe\">\n",
       "  <thead>\n",
       "    <tr style=\"text-align: right;\">\n",
       "      <th></th>\n",
       "      <th>TCP_UPLOAD_PACKETS</th>\n",
       "      <th>TCP_DOWNLOAD_PACKETS</th>\n",
       "      <th>TCP_UPLOAD_BYTES</th>\n",
       "      <th>TCP_DOWNLOAD_BYTES</th>\n",
       "      <th>UDP_UPLOAD_PACKETS</th>\n",
       "      <th>UDP_DOWNLOAD_PACKETS</th>\n",
       "      <th>UDP_UPLOAD_BYTES</th>\n",
       "      <th>UDP_DOWNLOAD_BYTES</th>\n",
       "      <th>DIRECTION</th>\n",
       "      <th>TOTAL_DNS_NUMBER</th>\n",
       "      <th>TOTAL_HOST_NUMBER</th>\n",
       "      <th>SOURCE_IP</th>\n",
       "      <th>DESTINATION_IP</th>\n",
       "      <th>START_TIME</th>\n",
       "      <th>STAGE</th>\n",
       "      <th>LABEL</th>\n",
       "    </tr>\n",
       "  </thead>\n",
       "  <tbody>\n",
       "    <tr>\n",
       "      <th>473352</th>\n",
       "      <td>1.0</td>\n",
       "      <td>1.0</td>\n",
       "      <td>0.0</td>\n",
       "      <td>0.0</td>\n",
       "      <td>0.0</td>\n",
       "      <td>0.0</td>\n",
       "      <td>0.0</td>\n",
       "      <td>0.0</td>\n",
       "      <td>0.0</td>\n",
       "      <td>0.0</td>\n",
       "      <td>0.0</td>\n",
       "      <td>1.509467e+09</td>\n",
       "      <td>2.886730e+09</td>\n",
       "      <td>1.644987e+09</td>\n",
       "      <td>0.0</td>\n",
       "      <td>0.0</td>\n",
       "    </tr>\n",
       "    <tr>\n",
       "      <th>658954</th>\n",
       "      <td>1.0</td>\n",
       "      <td>1.0</td>\n",
       "      <td>0.0</td>\n",
       "      <td>0.0</td>\n",
       "      <td>0.0</td>\n",
       "      <td>0.0</td>\n",
       "      <td>0.0</td>\n",
       "      <td>0.0</td>\n",
       "      <td>0.0</td>\n",
       "      <td>0.0</td>\n",
       "      <td>0.0</td>\n",
       "      <td>3.331367e+09</td>\n",
       "      <td>2.886730e+09</td>\n",
       "      <td>1.646201e+09</td>\n",
       "      <td>0.0</td>\n",
       "      <td>0.0</td>\n",
       "    </tr>\n",
       "    <tr>\n",
       "      <th>156970</th>\n",
       "      <td>1.0</td>\n",
       "      <td>1.0</td>\n",
       "      <td>0.0</td>\n",
       "      <td>0.0</td>\n",
       "      <td>0.0</td>\n",
       "      <td>0.0</td>\n",
       "      <td>0.0</td>\n",
       "      <td>0.0</td>\n",
       "      <td>0.0</td>\n",
       "      <td>0.0</td>\n",
       "      <td>0.0</td>\n",
       "      <td>1.509468e+09</td>\n",
       "      <td>2.886730e+09</td>\n",
       "      <td>1.642756e+09</td>\n",
       "      <td>0.0</td>\n",
       "      <td>0.0</td>\n",
       "    </tr>\n",
       "    <tr>\n",
       "      <th>133199</th>\n",
       "      <td>1.0</td>\n",
       "      <td>1.0</td>\n",
       "      <td>0.0</td>\n",
       "      <td>0.0</td>\n",
       "      <td>0.0</td>\n",
       "      <td>0.0</td>\n",
       "      <td>0.0</td>\n",
       "      <td>0.0</td>\n",
       "      <td>0.0</td>\n",
       "      <td>0.0</td>\n",
       "      <td>0.0</td>\n",
       "      <td>2.924227e+09</td>\n",
       "      <td>2.886730e+09</td>\n",
       "      <td>1.644563e+09</td>\n",
       "      <td>0.0</td>\n",
       "      <td>0.0</td>\n",
       "    </tr>\n",
       "    <tr>\n",
       "      <th>124675</th>\n",
       "      <td>1.0</td>\n",
       "      <td>1.0</td>\n",
       "      <td>0.0</td>\n",
       "      <td>0.0</td>\n",
       "      <td>0.0</td>\n",
       "      <td>0.0</td>\n",
       "      <td>0.0</td>\n",
       "      <td>0.0</td>\n",
       "      <td>0.0</td>\n",
       "      <td>0.0</td>\n",
       "      <td>0.0</td>\n",
       "      <td>1.509467e+09</td>\n",
       "      <td>2.886730e+09</td>\n",
       "      <td>1.644588e+09</td>\n",
       "      <td>0.0</td>\n",
       "      <td>0.0</td>\n",
       "    </tr>\n",
       "  </tbody>\n",
       "</table>\n",
       "</div>"
      ],
      "text/plain": [
       "        TCP_UPLOAD_PACKETS  TCP_DOWNLOAD_PACKETS  TCP_UPLOAD_BYTES  \\\n",
       "473352                 1.0                   1.0               0.0   \n",
       "658954                 1.0                   1.0               0.0   \n",
       "156970                 1.0                   1.0               0.0   \n",
       "133199                 1.0                   1.0               0.0   \n",
       "124675                 1.0                   1.0               0.0   \n",
       "\n",
       "        TCP_DOWNLOAD_BYTES  UDP_UPLOAD_PACKETS  UDP_DOWNLOAD_PACKETS  \\\n",
       "473352                 0.0                 0.0                   0.0   \n",
       "658954                 0.0                 0.0                   0.0   \n",
       "156970                 0.0                 0.0                   0.0   \n",
       "133199                 0.0                 0.0                   0.0   \n",
       "124675                 0.0                 0.0                   0.0   \n",
       "\n",
       "        UDP_UPLOAD_BYTES  UDP_DOWNLOAD_BYTES  DIRECTION  TOTAL_DNS_NUMBER  \\\n",
       "473352               0.0                 0.0        0.0               0.0   \n",
       "658954               0.0                 0.0        0.0               0.0   \n",
       "156970               0.0                 0.0        0.0               0.0   \n",
       "133199               0.0                 0.0        0.0               0.0   \n",
       "124675               0.0                 0.0        0.0               0.0   \n",
       "\n",
       "        TOTAL_HOST_NUMBER     SOURCE_IP  DESTINATION_IP    START_TIME  STAGE  \\\n",
       "473352                0.0  1.509467e+09    2.886730e+09  1.644987e+09    0.0   \n",
       "658954                0.0  3.331367e+09    2.886730e+09  1.646201e+09    0.0   \n",
       "156970                0.0  1.509468e+09    2.886730e+09  1.642756e+09    0.0   \n",
       "133199                0.0  2.924227e+09    2.886730e+09  1.644563e+09    0.0   \n",
       "124675                0.0  1.509467e+09    2.886730e+09  1.644588e+09    0.0   \n",
       "\n",
       "        LABEL  \n",
       "473352    0.0  \n",
       "658954    0.0  \n",
       "156970    0.0  \n",
       "133199    0.0  \n",
       "124675    0.0  "
      ]
     },
     "execution_count": 4,
     "metadata": {},
     "output_type": "execute_result"
    }
   ],
   "source": [
    "df_dataset.sample(5)"
   ]
  },
  {
   "cell_type": "code",
   "execution_count": 5,
   "id": "f3208700-64e6-4cdf-9f5a-0988d3c90783",
   "metadata": {},
   "outputs": [
    {
     "name": "stdout",
     "output_type": "stream",
     "text": [
      "<class 'pandas.core.frame.DataFrame'>\n",
      "RangeIndex: 866619 entries, 0 to 866618\n",
      "Data columns (total 16 columns):\n",
      " #   Column                Non-Null Count   Dtype  \n",
      "---  ------                --------------   -----  \n",
      " 0   TCP_UPLOAD_PACKETS    866619 non-null  float64\n",
      " 1   TCP_DOWNLOAD_PACKETS  866619 non-null  float64\n",
      " 2   TCP_UPLOAD_BYTES      866619 non-null  float64\n",
      " 3   TCP_DOWNLOAD_BYTES    866619 non-null  float64\n",
      " 4   UDP_UPLOAD_PACKETS    866619 non-null  float64\n",
      " 5   UDP_DOWNLOAD_PACKETS  866619 non-null  float64\n",
      " 6   UDP_UPLOAD_BYTES      866619 non-null  float64\n",
      " 7   UDP_DOWNLOAD_BYTES    866619 non-null  float64\n",
      " 8   DIRECTION             866619 non-null  float64\n",
      " 9   TOTAL_DNS_NUMBER      866619 non-null  float64\n",
      " 10  TOTAL_HOST_NUMBER     866619 non-null  float64\n",
      " 11  SOURCE_IP             866619 non-null  float64\n",
      " 12  DESTINATION_IP        866619 non-null  float64\n",
      " 13  START_TIME            866619 non-null  float64\n",
      " 14  STAGE                 866619 non-null  float64\n",
      " 15  LABEL                 866619 non-null  float64\n",
      "dtypes: float64(16)\n",
      "memory usage: 105.8 MB\n"
     ]
    }
   ],
   "source": [
    "df_dataset.info()"
   ]
  },
  {
   "cell_type": "code",
   "execution_count": 6,
   "id": "fe4dba90-d6bb-42a4-b018-9cb8af314e78",
   "metadata": {},
   "outputs": [
    {
     "data": {
      "text/html": [
       "<div>\n",
       "<style scoped>\n",
       "    .dataframe tbody tr th:only-of-type {\n",
       "        vertical-align: middle;\n",
       "    }\n",
       "\n",
       "    .dataframe tbody tr th {\n",
       "        vertical-align: top;\n",
       "    }\n",
       "\n",
       "    .dataframe thead th {\n",
       "        text-align: right;\n",
       "    }\n",
       "</style>\n",
       "<table border=\"1\" class=\"dataframe\">\n",
       "  <thead>\n",
       "    <tr style=\"text-align: right;\">\n",
       "      <th></th>\n",
       "      <th>TCP_UPLOAD_PACKETS</th>\n",
       "      <th>TCP_DOWNLOAD_PACKETS</th>\n",
       "      <th>TCP_UPLOAD_BYTES</th>\n",
       "      <th>TCP_DOWNLOAD_BYTES</th>\n",
       "      <th>UDP_UPLOAD_PACKETS</th>\n",
       "      <th>UDP_DOWNLOAD_PACKETS</th>\n",
       "      <th>UDP_UPLOAD_BYTES</th>\n",
       "      <th>UDP_DOWNLOAD_BYTES</th>\n",
       "      <th>DIRECTION</th>\n",
       "      <th>TOTAL_DNS_NUMBER</th>\n",
       "      <th>TOTAL_HOST_NUMBER</th>\n",
       "      <th>SOURCE_IP</th>\n",
       "      <th>DESTINATION_IP</th>\n",
       "      <th>START_TIME</th>\n",
       "      <th>STAGE</th>\n",
       "      <th>LABEL</th>\n",
       "    </tr>\n",
       "  </thead>\n",
       "  <tbody>\n",
       "    <tr>\n",
       "      <th>count</th>\n",
       "      <td>866619.000000</td>\n",
       "      <td>866619.000000</td>\n",
       "      <td>866619.000000</td>\n",
       "      <td>866619.000000</td>\n",
       "      <td>866619.000000</td>\n",
       "      <td>866619.000000</td>\n",
       "      <td>866619.000000</td>\n",
       "      <td>866619.000000</td>\n",
       "      <td>866619.000000</td>\n",
       "      <td>866619.0</td>\n",
       "      <td>866619.0</td>\n",
       "      <td>8.666190e+05</td>\n",
       "      <td>8.666190e+05</td>\n",
       "      <td>8.666190e+05</td>\n",
       "      <td>866619.0</td>\n",
       "      <td>866619.000000</td>\n",
       "    </tr>\n",
       "    <tr>\n",
       "      <th>mean</th>\n",
       "      <td>0.981134</td>\n",
       "      <td>0.985304</td>\n",
       "      <td>11.211484</td>\n",
       "      <td>6.041019</td>\n",
       "      <td>0.083581</td>\n",
       "      <td>0.001975</td>\n",
       "      <td>23.207653</td>\n",
       "      <td>0.012538</td>\n",
       "      <td>0.001872</td>\n",
       "      <td>0.0</td>\n",
       "      <td>0.0</td>\n",
       "      <td>1.946741e+09</td>\n",
       "      <td>2.885793e+09</td>\n",
       "      <td>1.645016e+09</td>\n",
       "      <td>0.0</td>\n",
       "      <td>0.033691</td>\n",
       "    </tr>\n",
       "    <tr>\n",
       "      <th>std</th>\n",
       "      <td>0.666203</td>\n",
       "      <td>0.656986</td>\n",
       "      <td>123.458892</td>\n",
       "      <td>63.509569</td>\n",
       "      <td>0.284124</td>\n",
       "      <td>0.044558</td>\n",
       "      <td>94.539078</td>\n",
       "      <td>1.298196</td>\n",
       "      <td>0.043222</td>\n",
       "      <td>0.0</td>\n",
       "      <td>0.0</td>\n",
       "      <td>9.077919e+08</td>\n",
       "      <td>4.894140e+07</td>\n",
       "      <td>1.756929e+06</td>\n",
       "      <td>0.0</td>\n",
       "      <td>0.180432</td>\n",
       "    </tr>\n",
       "    <tr>\n",
       "      <th>min</th>\n",
       "      <td>0.000000</td>\n",
       "      <td>0.000000</td>\n",
       "      <td>0.000000</td>\n",
       "      <td>0.000000</td>\n",
       "      <td>0.000000</td>\n",
       "      <td>0.000000</td>\n",
       "      <td>0.000000</td>\n",
       "      <td>0.000000</td>\n",
       "      <td>0.000000</td>\n",
       "      <td>0.0</td>\n",
       "      <td>0.0</td>\n",
       "      <td>1.681525e+07</td>\n",
       "      <td>3.687759e+07</td>\n",
       "      <td>1.641891e+09</td>\n",
       "      <td>0.0</td>\n",
       "      <td>0.000000</td>\n",
       "    </tr>\n",
       "    <tr>\n",
       "      <th>25%</th>\n",
       "      <td>1.000000</td>\n",
       "      <td>1.000000</td>\n",
       "      <td>0.000000</td>\n",
       "      <td>0.000000</td>\n",
       "      <td>0.000000</td>\n",
       "      <td>0.000000</td>\n",
       "      <td>0.000000</td>\n",
       "      <td>0.000000</td>\n",
       "      <td>0.000000</td>\n",
       "      <td>0.0</td>\n",
       "      <td>0.0</td>\n",
       "      <td>1.509467e+09</td>\n",
       "      <td>2.886730e+09</td>\n",
       "      <td>1.643567e+09</td>\n",
       "      <td>0.0</td>\n",
       "      <td>0.000000</td>\n",
       "    </tr>\n",
       "    <tr>\n",
       "      <th>50%</th>\n",
       "      <td>1.000000</td>\n",
       "      <td>1.000000</td>\n",
       "      <td>0.000000</td>\n",
       "      <td>0.000000</td>\n",
       "      <td>0.000000</td>\n",
       "      <td>0.000000</td>\n",
       "      <td>0.000000</td>\n",
       "      <td>0.000000</td>\n",
       "      <td>0.000000</td>\n",
       "      <td>0.0</td>\n",
       "      <td>0.0</td>\n",
       "      <td>1.707689e+09</td>\n",
       "      <td>2.886730e+09</td>\n",
       "      <td>1.644970e+09</td>\n",
       "      <td>0.0</td>\n",
       "      <td>0.000000</td>\n",
       "    </tr>\n",
       "    <tr>\n",
       "      <th>75%</th>\n",
       "      <td>1.000000</td>\n",
       "      <td>1.000000</td>\n",
       "      <td>0.000000</td>\n",
       "      <td>0.000000</td>\n",
       "      <td>0.000000</td>\n",
       "      <td>0.000000</td>\n",
       "      <td>0.000000</td>\n",
       "      <td>0.000000</td>\n",
       "      <td>0.000000</td>\n",
       "      <td>0.0</td>\n",
       "      <td>0.0</td>\n",
       "      <td>2.807991e+09</td>\n",
       "      <td>2.886730e+09</td>\n",
       "      <td>1.646659e+09</td>\n",
       "      <td>0.0</td>\n",
       "      <td>0.000000</td>\n",
       "    </tr>\n",
       "    <tr>\n",
       "      <th>max</th>\n",
       "      <td>179.000000</td>\n",
       "      <td>179.000000</td>\n",
       "      <td>75715.000000</td>\n",
       "      <td>27839.000000</td>\n",
       "      <td>27.000000</td>\n",
       "      <td>2.000000</td>\n",
       "      <td>5008.000000</td>\n",
       "      <td>269.000000</td>\n",
       "      <td>1.000000</td>\n",
       "      <td>0.0</td>\n",
       "      <td>0.0</td>\n",
       "      <td>3.758089e+09</td>\n",
       "      <td>4.026532e+09</td>\n",
       "      <td>1.648013e+09</td>\n",
       "      <td>0.0</td>\n",
       "      <td>1.000000</td>\n",
       "    </tr>\n",
       "  </tbody>\n",
       "</table>\n",
       "</div>"
      ],
      "text/plain": [
       "       TCP_UPLOAD_PACKETS  TCP_DOWNLOAD_PACKETS  TCP_UPLOAD_BYTES  \\\n",
       "count       866619.000000         866619.000000     866619.000000   \n",
       "mean             0.981134              0.985304         11.211484   \n",
       "std              0.666203              0.656986        123.458892   \n",
       "min              0.000000              0.000000          0.000000   \n",
       "25%              1.000000              1.000000          0.000000   \n",
       "50%              1.000000              1.000000          0.000000   \n",
       "75%              1.000000              1.000000          0.000000   \n",
       "max            179.000000            179.000000      75715.000000   \n",
       "\n",
       "       TCP_DOWNLOAD_BYTES  UDP_UPLOAD_PACKETS  UDP_DOWNLOAD_PACKETS  \\\n",
       "count       866619.000000       866619.000000         866619.000000   \n",
       "mean             6.041019            0.083581              0.001975   \n",
       "std             63.509569            0.284124              0.044558   \n",
       "min              0.000000            0.000000              0.000000   \n",
       "25%              0.000000            0.000000              0.000000   \n",
       "50%              0.000000            0.000000              0.000000   \n",
       "75%              0.000000            0.000000              0.000000   \n",
       "max          27839.000000           27.000000              2.000000   \n",
       "\n",
       "       UDP_UPLOAD_BYTES  UDP_DOWNLOAD_BYTES      DIRECTION  TOTAL_DNS_NUMBER  \\\n",
       "count     866619.000000       866619.000000  866619.000000          866619.0   \n",
       "mean          23.207653            0.012538       0.001872               0.0   \n",
       "std           94.539078            1.298196       0.043222               0.0   \n",
       "min            0.000000            0.000000       0.000000               0.0   \n",
       "25%            0.000000            0.000000       0.000000               0.0   \n",
       "50%            0.000000            0.000000       0.000000               0.0   \n",
       "75%            0.000000            0.000000       0.000000               0.0   \n",
       "max         5008.000000          269.000000       1.000000               0.0   \n",
       "\n",
       "       TOTAL_HOST_NUMBER     SOURCE_IP  DESTINATION_IP    START_TIME  \\\n",
       "count           866619.0  8.666190e+05    8.666190e+05  8.666190e+05   \n",
       "mean                 0.0  1.946741e+09    2.885793e+09  1.645016e+09   \n",
       "std                  0.0  9.077919e+08    4.894140e+07  1.756929e+06   \n",
       "min                  0.0  1.681525e+07    3.687759e+07  1.641891e+09   \n",
       "25%                  0.0  1.509467e+09    2.886730e+09  1.643567e+09   \n",
       "50%                  0.0  1.707689e+09    2.886730e+09  1.644970e+09   \n",
       "75%                  0.0  2.807991e+09    2.886730e+09  1.646659e+09   \n",
       "max                  0.0  3.758089e+09    4.026532e+09  1.648013e+09   \n",
       "\n",
       "          STAGE          LABEL  \n",
       "count  866619.0  866619.000000  \n",
       "mean        0.0       0.033691  \n",
       "std         0.0       0.180432  \n",
       "min         0.0       0.000000  \n",
       "25%         0.0       0.000000  \n",
       "50%         0.0       0.000000  \n",
       "75%         0.0       0.000000  \n",
       "max         0.0       1.000000  "
      ]
     },
     "execution_count": 6,
     "metadata": {},
     "output_type": "execute_result"
    }
   ],
   "source": [
    "df_dataset.describe()"
   ]
  },
  {
   "cell_type": "code",
   "execution_count": 7,
   "id": "a0735134-4f6a-46da-ac0b-e5fbab282613",
   "metadata": {},
   "outputs": [
    {
     "data": {
      "text/plain": [
       "TCP_UPLOAD_PACKETS      0\n",
       "TCP_DOWNLOAD_PACKETS    0\n",
       "TCP_UPLOAD_BYTES        0\n",
       "TCP_DOWNLOAD_BYTES      0\n",
       "UDP_UPLOAD_PACKETS      0\n",
       "UDP_DOWNLOAD_PACKETS    0\n",
       "UDP_UPLOAD_BYTES        0\n",
       "UDP_DOWNLOAD_BYTES      0\n",
       "DIRECTION               0\n",
       "TOTAL_DNS_NUMBER        0\n",
       "TOTAL_HOST_NUMBER       0\n",
       "SOURCE_IP               0\n",
       "DESTINATION_IP          0\n",
       "START_TIME              0\n",
       "STAGE                   0\n",
       "LABEL                   0\n",
       "dtype: int64"
      ]
     },
     "execution_count": 7,
     "metadata": {},
     "output_type": "execute_result"
    }
   ],
   "source": [
    "pd.DataFrame(df_dataset).isnull().sum()"
   ]
  },
  {
   "cell_type": "code",
   "execution_count": 8,
   "id": "42a94ff7-1d7d-4149-8668-558837a61d5c",
   "metadata": {},
   "outputs": [
    {
     "data": {
      "text/plain": [
       "Index(['TCP_UPLOAD_PACKETS', 'TCP_DOWNLOAD_PACKETS', 'TCP_UPLOAD_BYTES',\n",
       "       'TCP_DOWNLOAD_BYTES', 'UDP_UPLOAD_PACKETS', 'UDP_DOWNLOAD_PACKETS',\n",
       "       'UDP_UPLOAD_BYTES', 'UDP_DOWNLOAD_BYTES', 'DIRECTION',\n",
       "       'TOTAL_DNS_NUMBER', 'TOTAL_HOST_NUMBER', 'SOURCE_IP', 'DESTINATION_IP',\n",
       "       'START_TIME', 'STAGE', 'LABEL'],\n",
       "      dtype='object')"
      ]
     },
     "execution_count": 8,
     "metadata": {},
     "output_type": "execute_result"
    }
   ],
   "source": [
    "df_dataset.columns"
   ]
  },
  {
   "cell_type": "code",
   "execution_count": 9,
   "id": "c7688c6e-416b-442c-ad25-ce401b081f29",
   "metadata": {},
   "outputs": [],
   "source": [
    "ylabel = df_dataset['LABEL']"
   ]
  },
  {
   "cell_type": "code",
   "execution_count": 10,
   "id": "c6359709-d324-4859-b33d-075062714361",
   "metadata": {},
   "outputs": [],
   "source": [
    "dropFeature = ['LABEL']\n",
    "df_dataset = df_dataset.drop(dropFeature, axis=1)"
   ]
  },
  {
   "cell_type": "code",
   "execution_count": 11,
   "id": "f75bd013-8f9f-4fd2-ab18-9448c37fa058",
   "metadata": {},
   "outputs": [],
   "source": [
    "X_train, X_test, y_train, y_test = train_test_split(df_dataset, ylabel, test_size=0.33, random_state=42)"
   ]
  },
  {
   "cell_type": "markdown",
   "id": "d1aac661-14b9-45df-b77c-38d446c6e766",
   "metadata": {},
   "source": [
    "# RandomForest\n",
    "Acc 0.9982"
   ]
  },
  {
   "cell_type": "code",
   "execution_count": 12,
   "id": "7c54b78e-3ae2-4017-b07d-d46adf48b501",
   "metadata": {},
   "outputs": [
    {
     "name": "stdout",
     "output_type": "stream",
     "text": [
      "Acc: 0.9982446631816354\n"
     ]
    }
   ],
   "source": [
    "#RandomForest\n",
    "from sklearn.ensemble import RandomForestClassifier\n",
    "from sklearn.ensemble import RandomForestRegressor\n",
    "from sklearn import ensemble, preprocessing, metrics\n",
    "from sklearn.metrics import confusion_matrix\n",
    "\n",
    "# build model\n",
    "forest = ensemble.RandomForestClassifier(n_estimators = 100)\n",
    "\n",
    "# train\n",
    "forest_fit = forest.fit(X_train, y_train)\n",
    "\n",
    "# predict\n",
    "test_y_predicted = forest.predict(X_test)\n",
    "\n",
    "# Acc\n",
    "accuracy = metrics.accuracy_score(y_test, test_y_predicted)\n",
    "print(\"Acc: \" + str(accuracy))"
   ]
  },
  {
   "cell_type": "code",
   "execution_count": 13,
   "id": "1c559f25-ccfc-4e4e-8aeb-93fa5c9aae90",
   "metadata": {},
   "outputs": [
    {
     "data": {
      "text/plain": [
       "array([[276236,    219],\n",
       "       [   283,   9247]])"
      ]
     },
     "execution_count": 13,
     "metadata": {},
     "output_type": "execute_result"
    }
   ],
   "source": [
    "confusion_matrix(y_test, test_y_predicted)"
   ]
  },
  {
   "cell_type": "markdown",
   "id": "9172fc65-99e8-46b9-91f8-3fc10fc92af3",
   "metadata": {
    "tags": []
   },
   "source": [
    "# XGboost\n",
    "Acc 0.9982"
   ]
  },
  {
   "cell_type": "code",
   "execution_count": 14,
   "id": "7eec8cc7-c3fe-4221-92f1-023895fa8855",
   "metadata": {},
   "outputs": [
    {
     "name": "stdout",
     "output_type": "stream",
     "text": [
      "Acc:  0.998276133363638\n"
     ]
    }
   ],
   "source": [
    "from xgboost import XGBClassifier\n",
    "from sklearn.metrics import confusion_matrix\n",
    "\n",
    "# build model\n",
    "xgboostModel = XGBClassifier(n_estimators=100, learning_rate= 0.3)\n",
    "\n",
    "# train\n",
    "xgboostModel.fit(X_train, y_train)\n",
    "\n",
    "# predict\n",
    "predicted = xgboostModel.predict(X_test)\n",
    "\n",
    "# Acc\n",
    "#print('trainset: ',xgboostModel.score(X_train,y_train))\n",
    "print('Acc: ',xgboostModel.score(X_test,y_test))"
   ]
  },
  {
   "cell_type": "code",
   "execution_count": 15,
   "id": "373d6935-fc57-45f5-a64a-ec5626b0c15f",
   "metadata": {},
   "outputs": [
    {
     "data": {
      "text/plain": [
       "array([[276308,    147],\n",
       "       [   346,   9184]])"
      ]
     },
     "execution_count": 15,
     "metadata": {},
     "output_type": "execute_result"
    }
   ],
   "source": [
    "confusion_matrix(y_test, predicted)"
   ]
  },
  {
   "cell_type": "code",
   "execution_count": null,
   "id": "f046b710-b6f0-4d28-ab3c-066143655e0e",
   "metadata": {},
   "outputs": [],
   "source": []
  }
 ],
 "metadata": {
  "kernelspec": {
   "display_name": "Python 3 (ipykernel)",
   "language": "python",
   "name": "python3"
  },
  "language_info": {
   "codemirror_mode": {
    "name": "ipython",
    "version": 3
   },
   "file_extension": ".py",
   "mimetype": "text/x-python",
   "name": "python",
   "nbconvert_exporter": "python",
   "pygments_lexer": "ipython3",
   "version": "3.9.7"
  }
 },
 "nbformat": 4,
 "nbformat_minor": 5
}
