{
 "cells": [
  {
   "cell_type": "code",
   "execution_count": 30,
   "id": "fdf11b12-3d95-42c3-a2a7-46fed59eaacc",
   "metadata": {},
   "outputs": [],
   "source": [
    "import tarfile\n",
    "from os import walk"
   ]
  },
  {
   "cell_type": "code",
   "execution_count": 31,
   "id": "e8fa13be-63e5-4bde-9751-e9cb14f861eb",
   "metadata": {},
   "outputs": [],
   "source": [
    "f = []\n",
    "target_path = \"/mnt/bigDisk/EDR/Fileless_Pcap_label\"\n",
    "# target_path .tar.gz檔案所存放的目錄\n",
    "save_path = \"/mnt/bigDisk/EDR/Fileless_Pcap_label/unzip_dataset\"\n",
    "# save_path 解壓縮後存放的目錄\n",
    "for (dirpath, dirnames, filenames) in walk(path):\n",
    "    f.extend(filenames)\n",
    "    break"
   ]
  },
  {
   "cell_type": "code",
   "execution_count": 32,
   "id": "b08ab1d3-287a-4a5a-ad21-0ffc0e1ae8d6",
   "metadata": {},
   "outputs": [],
   "source": [
    "for filename in f:\n",
    "    filepath = path + \"/\" + filename\n",
    "    tf = tarfile.open(filepath)\n",
    "    tf.extractall(save_path)"
   ]
  },
  {
   "cell_type": "code",
   "execution_count": null,
   "id": "a77b1527-bd55-4adc-9937-f55626f98ffc",
   "metadata": {},
   "outputs": [],
   "source": []
  }
 ],
 "metadata": {
  "kernelspec": {
   "display_name": "Python 3 (ipykernel)",
   "language": "python",
   "name": "python3"
  },
  "language_info": {
   "codemirror_mode": {
    "name": "ipython",
    "version": 3
   },
   "file_extension": ".py",
   "mimetype": "text/x-python",
   "name": "python",
   "nbconvert_exporter": "python",
   "pygments_lexer": "ipython3",
   "version": "3.9.7"
  }
 },
 "nbformat": 4,
 "nbformat_minor": 5
}
