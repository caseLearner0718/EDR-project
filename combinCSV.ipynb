{
 "cells": [
  {
   "cell_type": "markdown",
   "id": "0df752dc-3ac2-45c5-b937-09b7e295f964",
   "metadata": {},
   "source": [
    "# Merge data for each day"
   ]
  },
  {
   "cell_type": "code",
   "execution_count": 1,
   "id": "bac083cd-d72a-41a8-8de2-64931db5582a",
   "metadata": {},
   "outputs": [],
   "source": [
    "import os, glob\n",
    "import pandas as pd"
   ]
  },
  {
   "cell_type": "code",
   "execution_count": 2,
   "id": "49db84bc-4853-4b9e-a1a8-f884dfb5ff1c",
   "metadata": {},
   "outputs": [],
   "source": [
    "target_path = \"/mnt/bigDisk/EDR/unzip_FilelessPcap_label/raw_data\"\n",
    "# target_path rawdata path (存放所有csv\"資料夾\"的路徑)\n",
    "save_path = \"/mnt/bigDisk/EDR/unzip_FilelessPcap_label/FilelessPacp_label_dataset/eachDay\"\n",
    "# save_path 合併後儲存的目錄"
   ]
  },
  {
   "cell_type": "code",
   "execution_count": 3,
   "id": "965df231-e1c4-48d0-9c24-d3f0e1163e21",
   "metadata": {},
   "outputs": [
    {
     "name": "stdout",
     "output_type": "stream",
     "text": [
      "2022-01-20-csv  -  done\n",
      "2022-01-19-csv  -  done\n",
      "2022-01-29-csv  -  done\n",
      "2022-03-06-csv  -  done\n",
      "2022-01-17-csv  -  done\n",
      "2022-03-17-csv  -  done\n",
      "2022-02-01-csv  -  done\n",
      "2022-02-05-csv  -  done\n",
      "2022-02-07-csv  -  done\n",
      "2022-03-18-csv  -  done\n",
      "2022-02-22-csv  -  done\n",
      "2022-02-04-csv  -  done\n",
      "2022-03-20-csv  -  done\n",
      "2022-03-08-csv  -  done\n",
      "2022-03-13-csv  -  done\n",
      "2022-01-31-csv  -  done\n",
      "2022-02-27-csv  -  done\n",
      "2022-01-12-csv  -  done\n",
      "2022-02-26-csv  -  done\n",
      "2022-03-22-csv  -  done\n",
      "2022-02-14-csv  -  done\n",
      "2022-02-25-csv  -  done\n",
      "2022-03-19-csv  -  done\n",
      "2022-02-24-csv  -  done\n",
      "2022-03-05-csv  -  done\n",
      "2022-03-21-csv  -  done\n",
      "2022-01-16-csv  -  done\n",
      "2022-03-07-csv  -  done\n",
      "2022-02-06-csv  -  done\n",
      "2022-03-01-csv  -  done\n",
      "2022-02-19-csv  -  done\n",
      "2022-01-21-csv  -  done\n",
      "2022-02-21-csv  -  done\n",
      "2022-02-03-csv  -  done\n",
      "2022-02-15-csv  -  done\n",
      "2022-02-23-csv  -  done\n",
      "2022-01-30-csv  -  done\n",
      "2022-01-11-csv  -  done\n",
      "2022-02-28-csv  -  done\n",
      "2022-01-22-csv  -  done\n",
      "2022-01-26-csv  -  done\n",
      "2022-01-15-csv  -  done\n",
      "2022-02-12-csv  -  done\n",
      "2022-03-15-csv  -  done\n",
      "2022-03-11-csv  -  done\n",
      "2022-03-16-csv  -  done\n",
      "2022-01-27-csv  -  done\n",
      "2022-03-14-csv  -  done\n",
      "2022-03-10-csv  -  done\n",
      "2022-01-13-csv  -  done\n",
      "2022-01-28-csv  -  done\n",
      "2022-03-04-csv  -  done\n",
      "2022-03-23-csv  -  done\n",
      "2022-02-02-csv  -  done\n",
      "2022-02-20-csv  -  done\n",
      "2022-02-17-csv  -  done\n",
      "2022-02-11-csv  -  done\n",
      "2022-03-03-csv  -  done\n",
      "2022-02-16-csv  -  done\n",
      "2022-01-06-csv  -  done\n",
      "2022-01-07-csv  -  done\n",
      "2022-01-24-csv  -  done\n",
      "2022-02-10-csv  -  done\n",
      "2022-02-08-csv  -  done\n",
      "2022-03-02-csv  -  done\n",
      "2022-01-14-csv  -  done\n",
      "2022-01-25-csv  -  done\n",
      "2022-03-12-csv  -  done\n",
      "2022-03-09-csv  -  done\n",
      "2022-02-09-csv  -  done\n",
      "2022-01-18-csv  -  done\n",
      "2022-02-18-csv  -  done\n",
      "2022-02-13-csv  -  done\n",
      "2022-01-23-csv  -  done\n"
     ]
    }
   ],
   "source": [
    "dirname = os.listdir(\"/mnt/bigDisk/EDR/unzip_FilelessPcap_label/raw_data\")\n",
    "for dirname in dirname:\n",
    "    dirpath = target_path + \"/\" + dirname\n",
    "    #dirpath = \"/mnt/bigDisk/EDR/Fileless_Pcap_label/unzip_dataset/2022-03-21-csv\"\n",
    "    universal_filename = \"dump-\" + dirname[:-4] + \"*csv\"\n",
    "    # universal_filename eg. dump-2022-03-21*.csv\n",
    "    csv_path = save_path + \"/merged_\" + dirname[:-4] + \".csv\"\n",
    "    # csv_path eg. /mnt/bigDisk/EDR/unzip_FilelessPcap_label/FilelessPcap_label_dataset/eachDay/merged_2022-03-21.csv\n",
    "    \n",
    "    all_files = glob.glob(os.path.join(dirpath, universal_filename))\n",
    "    df_from_each_file = (pd.read_csv(f, sep=',') for f in all_files)\n",
    "    df_merged = pd.concat(df_from_each_file, ignore_index=True)\n",
    "    df_merged.to_csv(csv_path, index = False)\n",
    "    print(dirname + \"  -  done\")"
   ]
  },
  {
   "cell_type": "markdown",
   "id": "2bea201b-d05f-4a0b-8547-24db4853cbcd",
   "metadata": {},
   "source": [
    "# Merge data for global"
   ]
  },
  {
   "cell_type": "code",
   "execution_count": 4,
   "id": "27b1a0fe-646a-49a3-b8bc-8bb0b0ce7f75",
   "metadata": {},
   "outputs": [],
   "source": [
    "target_path = \"/mnt/bigDisk/EDR/unzip_FilelessPcap_label/FilelessPacp_label_dataset/eachDay\"\n",
    "# target_path rawdata path (存放所有csv\"檔案\"的路徑)\n",
    "save_path = \"/mnt/bigDisk/EDR/unzip_FilelessPcap_label/FilelessPacp_label_dataset/total/\"\n",
    "# save_path 合併後儲存的目錄"
   ]
  },
  {
   "cell_type": "code",
   "execution_count": 5,
   "id": "47e47513-6b9b-4141-9249-323346d691bf",
   "metadata": {},
   "outputs": [],
   "source": [
    "save_filepath = save_path + \"total_merged.csv\"\n",
    "\n",
    "all_files = glob.glob(os.path.join(target_path, \"merged_*.csv\"))\n",
    "df_from_each_file = (pd.read_csv(f, sep=',') for f in all_files)\n",
    "df_merged = pd.concat(df_from_each_file, ignore_index=True)\n",
    "df_merged.to_csv(save_filepath, index = False)"
   ]
  },
  {
   "cell_type": "code",
   "execution_count": null,
   "id": "8d6a56e1-d96a-401b-80e3-40950c07e58b",
   "metadata": {},
   "outputs": [],
   "source": []
  }
 ],
 "metadata": {
  "kernelspec": {
   "display_name": "Python 3 (ipykernel)",
   "language": "python",
   "name": "python3"
  },
  "language_info": {
   "codemirror_mode": {
    "name": "ipython",
    "version": 3
   },
   "file_extension": ".py",
   "mimetype": "text/x-python",
   "name": "python",
   "nbconvert_exporter": "python",
   "pygments_lexer": "ipython3",
   "version": "3.9.7"
  }
 },
 "nbformat": 4,
 "nbformat_minor": 5
}
